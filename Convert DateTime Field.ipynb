{
 "cells": [
  {
   "cell_type": "code",
   "execution_count": 1,
   "metadata": {},
   "outputs": [],
   "source": [
    "import pandas as pd\n",
    "import numpy as np\n",
    "from datetime import datetime, timedelta"
   ]
  },
  {
   "cell_type": "code",
   "execution_count": 5,
   "metadata": {},
   "outputs": [
    {
     "name": "stdout",
     "output_type": "stream",
     "text": [
      "date      object\n",
      "value    float64\n",
      "dtype: object\n",
      "               date      value\n",
      "0  03/02/2023 06:47  66.127092\n",
      "1  02/24/2023 18:01  90.274018\n",
      "2  02/10/2023 04:37  91.276608\n",
      "3  01/22/2023 14:47  98.309156\n",
      "4  03/03/2023 03:09  41.772164\n"
     ]
    }
   ],
   "source": [
    "# Define date range and create dummy dataset\n",
    "num_rows = 100\n",
    "start_date = datetime(2023, 1, 1, 8, 0)  # start date\n",
    "date_range = [start_date + timedelta(minutes=np.random.randint(0, 100000)) for _ in range(num_rows)]\n",
    "\n",
    "# Create the dummy dataset\n",
    "data = {\n",
    "    'date': [date.strftime('%m/%d/%Y %H:%M') for date in date_range],\n",
    "    'value': np.random.rand(num_rows) * 100  # random values for additional context\n",
    "}\n",
    "\n",
    "# Convert to DataFrame\n",
    "df = pd.DataFrame(data)\n",
    "\n",
    "# Display the dataset\n",
    "print(df.dtypes)\n",
    "print(df.head(5))"
   ]
  },
  {
   "cell_type": "markdown",
   "metadata": {},
   "source": [
    "So, in summary, .str.split(' ') splits the date strings into two parts (date and time), \n",
    "and .str[0] grabs the first part, which is the 'mm/dd/yyyy' format."
   ]
  },
  {
   "cell_type": "code",
   "execution_count": 4,
   "metadata": {},
   "outputs": [
    {
     "name": "stdout",
     "output_type": "stream",
     "text": [
      "         date      value\n",
      "0  03/03/2023  19.913068\n",
      "1  02/27/2023  12.913094\n",
      "2  01/12/2023  98.541171\n",
      "3  01/28/2023  78.216282\n",
      "4  03/07/2023   0.788886\n"
     ]
    }
   ],
   "source": [
    "# Remove 'HH:MM' part and keep only 'mm/dd/yyyy'\n",
    "# .str.split(' ') splits each string in the 'date' column at every occurrence of a space (' '). This results in each date string being split into a list of two elements: the first part (which is the 'mm/dd/yyyy') and the second part (which is the 'HH').\n",
    "# .str[0] selects the first element of each list resulting from the split operation, which corresponds to the 'mm/dd/yyyy' part of the date.\n",
    "df['date'] = df['date'].str.split(' ').str[0]\n",
    "\n",
    "# Display the updated DataFrame\n",
    "print(df.head(5))"
   ]
  },
  {
   "cell_type": "code",
   "execution_count": 6,
   "metadata": {},
   "outputs": [
    {
     "name": "stdout",
     "output_type": "stream",
     "text": [
      "date     datetime64[ns]\n",
      "value           float64\n",
      "dtype: object\n",
      "                 date      value\n",
      "0 2023-03-02 06:47:00  66.127092\n",
      "1 2023-02-24 18:01:00  90.274018\n",
      "2 2023-02-10 04:37:00  91.276608\n",
      "3 2023-01-22 14:47:00  98.309156\n",
      "4 2023-03-03 03:09:00  41.772164\n"
     ]
    }
   ],
   "source": [
    "# Convert 'date' column to datetime64[ns]\n",
    "df['date'] = pd.to_datetime(df['date'], format='%m/%d/%Y %H:%M')\n",
    "\n",
    "# Verify the data types\n",
    "print(df.dtypes)\n",
    "# Display the first 5 rows to ensure the conversion is successful\n",
    "print(df.head(5))"
   ]
  },
  {
   "cell_type": "code",
   "execution_count": 8,
   "metadata": {},
   "outputs": [
    {
     "name": "stdout",
     "output_type": "stream",
     "text": [
      "date      object\n",
      "value    float64\n",
      "dtype: object\n",
      "               date      value\n",
      "0  02/18/2023 21:33  19.655764\n",
      "1  03/04/2023 07:28  73.184132\n",
      "2  02/27/2023 12:15  25.915669\n",
      "3  01/09/2023 17:31  47.817152\n",
      "4  01/06/2023 10:03  91.059040\n"
     ]
    }
   ],
   "source": [
    "# Define date range and create dummy dataset\n",
    "num_rows = 100\n",
    "start_date = datetime(2023, 1, 1, 8, 0)  # start date\n",
    "date_range = [start_date + timedelta(minutes=np.random.randint(0, 100000)) for _ in range(num_rows)]\n",
    "\n",
    "# Create the dummy dataset\n",
    "data = {\n",
    "    # No need to format with strftime; just pass the datetime objects and use pd.to_datetime\n",
    "    'date': pd.to_datetime(date_range).strftime('%m/%d/%Y %H:%M'),\n",
    "    'value': np.random.rand(num_rows) * 100  # random values for additional context\n",
    "}\n",
    "\n",
    "# Convert to DataFrame\n",
    "df = pd.DataFrame(data)\n",
    "\n",
    "# Display the DataFrame\n",
    "print(df.dtypes)\n",
    "print(df.head())  # Display first few rows of the DataFrame"
   ]
  },
  {
   "cell_type": "code",
   "execution_count": 9,
   "metadata": {},
   "outputs": [
    {
     "name": "stdout",
     "output_type": "stream",
     "text": [
      "         date      value\n",
      "0  2023-02-18  19.655764\n",
      "1  2023-03-04  73.184132\n",
      "2  2023-02-27  25.915669\n",
      "3  2023-01-09  47.817152\n",
      "4  2023-01-06  91.059040\n"
     ]
    }
   ],
   "source": [
    "# Remove time part but keep as datetime objects (date only)\n",
    "df['date'] = pd.to_datetime(df['date']).dt.date\n",
    "\n",
    "# Display the first few rows\n",
    "print(df.head())"
   ]
  },
  {
   "cell_type": "code",
   "execution_count": 10,
   "metadata": {},
   "outputs": [
    {
     "name": "stdout",
     "output_type": "stream",
     "text": [
      "         date      value\n",
      "0  02/18/2023  19.655764\n",
      "1  03/04/2023  73.184132\n",
      "2  02/27/2023  25.915669\n",
      "3  01/09/2023  47.817152\n",
      "4  01/06/2023  91.059040\n"
     ]
    }
   ],
   "source": [
    "# Convert to string in 'mm/dd/yyyy' format\n",
    "df['date'] = pd.to_datetime(df['date']).dt.strftime('%m/%d/%Y')\n",
    "\n",
    "# Display the first few rows\n",
    "print(df.head())"
   ]
  },
  {
   "cell_type": "code",
   "execution_count": null,
   "metadata": {},
   "outputs": [],
   "source": []
  }
 ],
 "metadata": {
  "kernelspec": {
   "display_name": "Python 3",
   "language": "python",
   "name": "python3"
  },
  "language_info": {
   "codemirror_mode": {
    "name": "ipython",
    "version": 3
   },
   "file_extension": ".py",
   "mimetype": "text/x-python",
   "name": "python",
   "nbconvert_exporter": "python",
   "pygments_lexer": "ipython3",
   "version": "3.7.3"
  }
 },
 "nbformat": 4,
 "nbformat_minor": 2
}
